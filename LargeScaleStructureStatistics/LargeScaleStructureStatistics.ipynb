{
 "metadata": {
  "name": "",
  "signature": "sha256:91fa1580bac368eafb3dc326205da50f7cb27bc7ad2783071cc2ab9f35119b28"
 },
 "nbformat": 3,
 "nbformat_minor": 0,
 "worksheets": [
  {
   "cells": [
    {
     "cell_type": "code",
     "collapsed": false,
     "input": [],
     "language": "python",
     "metadata": {},
     "outputs": []
    }
   ],
   "metadata": {}
  }
 ]
}