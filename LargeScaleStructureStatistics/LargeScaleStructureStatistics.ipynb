{
 "metadata": {
  "name": "",
  "signature": "sha256:d5c2e5e5c870bfd8bfddead43fbdf7011a52aa5647c17ccec2d37b9de495a5a0"
 },
 "nbformat": 3,
 "nbformat_minor": 0,
 "worksheets": [
  {
   "cells": [
    {
     "cell_type": "heading",
     "level": 1,
     "metadata": {},
     "source": [
      "Large Scale Structure Statistics"
     ]
    },
    {
     "cell_type": "code",
     "collapsed": false,
     "input": [
      "%pylab inline"
     ],
     "language": "python",
     "metadata": {},
     "outputs": [
      {
       "output_type": "stream",
       "stream": "stdout",
       "text": [
        "Populating the interactive namespace from numpy and matplotlib\n"
       ]
      }
     ],
     "prompt_number": 6
    },
    {
     "cell_type": "code",
     "collapsed": false,
     "input": [
      "import math"
     ],
     "language": "python",
     "metadata": {},
     "outputs": [],
     "prompt_number": 10
    },
    {
     "cell_type": "code",
     "collapsed": false,
     "input": [
      "from astropy.cosmology import Planck13\n",
      "import astropy.units as u\n",
      "import astropy.constants as const"
     ],
     "language": "python",
     "metadata": {},
     "outputs": [],
     "prompt_number": 117
    },
    {
     "cell_type": "heading",
     "level": 2,
     "metadata": {},
     "source": [
      "Random Realizations"
     ]
    },
    {
     "cell_type": "markdown",
     "metadata": {},
     "source": [
      "Define the median redshift of the LSST \"gold\" weak-lensing sample (i < 25.3, SNR > 20 for point sources). Redshift errors in this sample should be \\sigma(z)/(1+z) = (1-2)% with 90% of galaxies better than 4% (from Section 4.1 of http://arxiv.org/abs/0805.2366):"
     ]
    },
    {
     "cell_type": "code",
     "collapsed": false,
     "input": [
      "z0_LSST_gold = 1.2"
     ],
     "language": "python",
     "metadata": {},
     "outputs": [],
     "prompt_number": 158
    },
    {
     "cell_type": "markdown",
     "metadata": {},
     "source": [
      "Create a square frame that represents a comoving volume where the specified coin_diameter is exactly 8 Mpc/h at the specifed redshift z0. Include angular and redshift axes:"
     ]
    },
    {
     "cell_type": "code",
     "collapsed": false,
     "input": [
      "def draw_frame(coin_diameter = 24.26*u.mm, cosmology = Planck13, z0 = z0_LSST_gold):\n",
      "    # Initialize a plot with seperate x,y axes on both sides.\n",
      "    fig = plt.figure(figsize=(7.5,9.0),dpi=50)\n",
      "    gs = matplotlib.gridspec.GridSpec(2,1,height_ratios=[7.5,9.0-7.5])\n",
      "    axes = plt.subplot(gs[0])\n",
      "    axes.set_xlabel('Transverse Comoving Distance (Mpc)')\n",
      "    axes.set_ylabel('Line-of-sight Comoving Distance (Mpc)')\n",
      "    # Set temporary limits so we can fix the aspect ratio.\n",
      "    plt.xlim(-15,+15)\n",
      "    plt.ylim(-15,+15)\n",
      "    axes.set_aspect('equal',adjustable='box')\n",
      "    # Get the axes sizes in inches. Remember to trigger updates via draw() before\n",
      "    # calling get_window_extent().\n",
      "    plt.draw()\n",
      "    bbox = axes.get_window_extent().transformed(fig.dpi_scale_trans.inverted())\n",
      "    assert abs(bbox.width - bbox.height) < 1e-6\n",
      "    print 'axes size =',(bbox.width,bbox.height),'inches'\n",
      "    # Calculate the axes length in Mpc so that the coin diameter is exactly 8 Mpc/h.\n",
      "    coin_diameter_inches = coin_diameter.to(u.imperial.inch).value\n",
      "    h = cosmology.H0/(100*u.km/u.s/u.Mpc)\n",
      "    print 'h =',h,'coin=',(8.0/h),'Mpc'\n",
      "    comoving_size = (8.0/h)*(bbox.width/coin_diameter_inches)\n",
      "    print 'axes size =',comoving_size,'Mpc'\n",
      "    plt.xlim(-0.5*comoving_size,+0.5*comoving_size)\n",
      "    plt.ylim(-0.5*comoving_size,+0.5*comoving_size)\n",
      "    # Calculate the corresponding range of angular separations (in degrees) at redshift z0.\n",
      "    angular_size = math.degrees(comoving_size*u.Mpc/cosmology.angular_diameter_distance(z=z0))\n",
      "    print 'angular size =',angular_size,'degrees'\n",
      "    # Calculate the corresponding redshift range centered at z0.\n",
      "    redshift_size = comoving_size*u.Mpc/((const.c/Planck13.H(z0)).to(u.Mpc))\n",
      "    print 'redshift size =',redshift_size\n",
      "    # Add secondary axes (which requires resetting the original axes).\n",
      "    alt_x_axis = axes.twiny()\n",
      "    alt_y_axis = axes.twinx()\n",
      "    axes.set(adjustable='box-forced',xlim=(-0.5*comoving_size,+0.5*comoving_size),\n",
      "        ylim=(-0.5*comoving_size,+0.5*comoving_size),aspect=1.)\n",
      "    alt_x_axis.set(adjustable='box-forced',xlim=(-0.5*angular_size,+0.5*angular_size),\n",
      "        ylim=(-0.5*comoving_size,+0.5*comoving_size),\n",
      "        aspect=angular_size/comoving_size)\n",
      "    alt_x_axis.set_xlabel('Angular Separation (degrees)')\n",
      "    alt_y_axis.set(adjustable='box-forced',xlim=(-0.5*comoving_size,+0.5*comoving_size),\n",
      "        ylim=(z0-0.5*redshift_size,z0+0.5*redshift_size),\n",
      "        aspect=comoving_size/redshift_size)\n",
      "    alt_y_axis.set_ylabel('Redshift')"
     ],
     "language": "python",
     "metadata": {},
     "outputs": [],
     "prompt_number": 159
    },
    {
     "cell_type": "code",
     "collapsed": false,
     "input": [
      "draw_frame()\n",
      "plt.savefig('frame.pdf')"
     ],
     "language": "python",
     "metadata": {},
     "outputs": [
      {
       "output_type": "stream",
       "stream": "stdout",
       "text": [
        "axes size = (5.2840909090909083, 5.2840909090909083) inches\n",
        "h = 0.6777 coin= 11.8046333186 Mpc\n",
        "axes size = 65.3078974583 Mpc\n",
        "angular size = 2.12987791863 degrees\n",
        "redshift size = 0.0294469531883\n"
       ]
      },
      {
       "metadata": {},
       "output_type": "display_data",
       "png": "[encoded data removed]",
       "text": [
        "<matplotlib.figure.Figure at 0x10949c790>"
       ]
      }
     ],
     "prompt_number": 160
    },
    {
     "cell_type": "code",
     "collapsed": false,
     "input": [],
     "language": "python",
     "metadata": {},
     "outputs": []
    }
   ],
   "metadata": {}
  }
 ]
}