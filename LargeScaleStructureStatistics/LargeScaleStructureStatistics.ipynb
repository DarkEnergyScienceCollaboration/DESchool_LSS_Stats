{
 "metadata": {
  "name": "",
  "signature": "sha256:2a36e7b8d45cb72a8e7241bc8ed9b6571f5104680d50e5c22e42739898dc1374"
 },
 "nbformat": 3,
 "nbformat_minor": 0,
 "worksheets": [
  {
   "cells": [
    {
     "cell_type": "heading",
     "level": 1,
     "metadata": {},
     "source": [
      "Large Scale Structure Statistics"
     ]
    },
    {
     "cell_type": "code",
     "collapsed": false,
     "input": [
      "%pylab inline"
     ],
     "language": "python",
     "metadata": {},
     "outputs": [
      {
       "output_type": "stream",
       "stream": "stdout",
       "text": [
        "Populating the interactive namespace from numpy and matplotlib\n"
       ]
      }
     ],
     "prompt_number": 1
    },
    {
     "cell_type": "code",
     "collapsed": false,
     "input": [
      "import math"
     ],
     "language": "python",
     "metadata": {},
     "outputs": [],
     "prompt_number": 2
    },
    {
     "cell_type": "code",
     "collapsed": false,
     "input": [
      "import astropy.units as u\n",
      "import astropy.constants as const"
     ],
     "language": "python",
     "metadata": {},
     "outputs": [],
     "prompt_number": 3
    },
    {
     "cell_type": "code",
     "collapsed": false,
     "input": [
      "import scipy.interpolate\n",
      "import scipy.fftpack"
     ],
     "language": "python",
     "metadata": {},
     "outputs": [],
     "prompt_number": 4
    },
    {
     "cell_type": "heading",
     "level": 2,
     "metadata": {},
     "source": [
      "Fiducial Cosmology"
     ]
    },
    {
     "cell_type": "code",
     "collapsed": false,
     "input": [
      "from astropy.cosmology import Planck13 as fiducial"
     ],
     "language": "python",
     "metadata": {},
     "outputs": [],
     "prompt_number": 5
    },
    {
     "cell_type": "markdown",
     "metadata": {},
     "source": [
      "Load the Planck13 power spectrum at z=1.2 (calculated with Planck13.camb):"
     ]
    },
    {
     "cell_type": "code",
     "collapsed": false,
     "input": [
      "pk_data = np.loadtxt('camb/Planck13_matterpower_1.dat').transpose()"
     ],
     "language": "python",
     "metadata": {},
     "outputs": [],
     "prompt_number": 6
    },
    {
     "cell_type": "code",
     "collapsed": false,
     "input": [
      "plt.plot(pk_data[0],pk_data[1],'-')\n",
      "plt.xscale('log')\n",
      "plt.yscale('log')\n",
      "plt.xlabel('Wavenumber k (h/Mpc)')\n",
      "plt.ylabel('Power P(k) (h/Mpc)^3')\n",
      "plt.grid();"
     ],
     "language": "python",
     "metadata": {},
     "outputs": [
      {
       "metadata": {},
       "output_type": "display_data",
       "png": "[encoded data removed]",
       "text": [
        "<matplotlib.figure.Figure at 0x10a174110>"
       ]
      }
     ],
     "prompt_number": 7
    },
    {
     "cell_type": "markdown",
     "metadata": {},
     "source": [
      "Create an interpolating function that is linear in log(k):"
     ]
    },
    {
     "cell_type": "code",
     "collapsed": false,
     "input": [
      "pk_interpolator = scipy.interpolate.InterpolatedUnivariateSpline(np.log(pk_data[0]),pk_data[1],k=1)"
     ],
     "language": "python",
     "metadata": {},
     "outputs": [],
     "prompt_number": 8
    },
    {
     "cell_type": "code",
     "collapsed": false,
     "input": [
      "def pk_func(kvec):\n",
      "    pk = np.zeros_like(kvec)\n",
      "    nonzero = (kvec>0)\n",
      "    pk[nonzero] = pk_interpolator(np.log(kvec[nonzero]))\n",
      "    return pk"
     ],
     "language": "python",
     "metadata": {},
     "outputs": [],
     "prompt_number": 9
    },
    {
     "cell_type": "heading",
     "level": 2,
     "metadata": {},
     "source": [
      "Survey Parameters"
     ]
    },
    {
     "cell_type": "markdown",
     "metadata": {},
     "source": [
      "Define the median redshift of the LSST \"gold\" weak-lensing sample (i < 25.3, SNR > 20 for point sources). Redshift errors in this sample should be \\sigma(z)/(1+z) = (1-2)% with 90% of galaxies better than 4% (from Section 4.1 of http://arxiv.org/abs/0805.2366):"
     ]
    },
    {
     "cell_type": "code",
     "collapsed": false,
     "input": [
      "z0_LSST_gold = 1.2"
     ],
     "language": "python",
     "metadata": {},
     "outputs": [],
     "prompt_number": 10
    },
    {
     "cell_type": "heading",
     "level": 2,
     "metadata": {},
     "source": [
      "Random Realizations"
     ]
    },
    {
     "cell_type": "code",
     "collapsed": false,
     "input": [
      "def generate(size_mpc,num_grid=128,seed=1):\n",
      "    dx = float(size_mpc)/num_grid\n",
      "    dk = 2*np.pi/size_mpc\n",
      "    kvec = 2*np.pi*np.fft.fftfreq(num_grid,d=dx) # in 1/Mpc\n",
      "    kx,ky,kz = np.meshgrid(kvec,kvec,kvec,sparse=True)\n",
      "    k = np.sqrt(kx**2 + ky**2 + kz**2)\n",
      "    del kx,ky,kz\n",
      "    variance = pk_func(k)\n",
      "    del k\n",
      "    generator = np.random.RandomState(seed)\n",
      "    delta_k = variance*generator.normal(size=(num_grid,num_grid,2*num_grid)).view(dtype=complex)\n",
      "    del variance\n",
      "    print delta_k.dtype,delta_k.shape\n",
      "    delta_r = scipy.fftpack.ifftn(delta_k,overwrite_x=True).view(dtype=float).reshape(num_grid,num_grid,num_grid,2)\n",
      "    print delta_r.dtype,delta_r.shape\n",
      "    return delta_r"
     ],
     "language": "python",
     "metadata": {},
     "outputs": [],
     "prompt_number": 35
    },
    {
     "cell_type": "code",
     "collapsed": false,
     "input": [
      "delta_r = generate(10.,128);"
     ],
     "language": "python",
     "metadata": {},
     "outputs": [
      {
       "output_type": "stream",
       "stream": "stdout",
       "text": [
        "complex128 (128, 128, 128)\n",
        "float64"
       ]
      },
      {
       "output_type": "stream",
       "stream": "stdout",
       "text": [
        " (128, 128, 128, 2)\n"
       ]
      }
     ],
     "prompt_number": 36
    },
    {
     "cell_type": "heading",
     "level": 2,
     "metadata": {},
     "source": [
      "Exercise Handout"
     ]
    },
    {
     "cell_type": "markdown",
     "metadata": {},
     "source": [
      "Create a square frame that represents a comoving volume where the specified coin's diameter is exactly 8 Mpc/h at the specifed redshift z0. Include angular and redshift axes:"
     ]
    },
    {
     "cell_type": "code",
     "collapsed": false,
     "input": [
      "us_dime = 17.95*u.mm\n",
      "us_quarter = 24.26*u.mm\n",
      "euro = 23.25*u.mm"
     ],
     "language": "python",
     "metadata": {},
     "outputs": [],
     "prompt_number": 165
    },
    {
     "cell_type": "code",
     "collapsed": false,
     "input": [
      "def draw_frame(coin = us_quarter, z0 = z0_LSST_gold):\n",
      "    # Initialize a plot with seperate x,y axes on both sides.\n",
      "    fig = plt.figure(figsize=(7.5,9.0),dpi=50)\n",
      "    gs = matplotlib.gridspec.GridSpec(2,1,height_ratios=[7.5,9.0-7.5])\n",
      "    axes = plt.subplot(gs[0])\n",
      "    axes.set_xlabel('Transverse Comoving Distance (Mpc)')\n",
      "    axes.set_ylabel('Line-of-sight Comoving Distance (Mpc)')\n",
      "    # Set temporary limits so we can fix the aspect ratio.\n",
      "    plt.xlim(-15,+15)\n",
      "    plt.ylim(-15,+15)\n",
      "    axes.set_aspect('equal',adjustable='box')\n",
      "    # Get the axes sizes in inches. Remember to trigger updates via draw() before\n",
      "    # calling get_window_extent().\n",
      "    plt.draw()\n",
      "    bbox = axes.get_window_extent().transformed(fig.dpi_scale_trans.inverted())\n",
      "    assert abs(bbox.width - bbox.height) < 1e-6\n",
      "    print 'Axes physical size = %.3f inches' % bbox.width\n",
      "    # Calculate the axes length in Mpc so that the coin diameter is exactly 8 Mpc/h.\n",
      "    coin_diameter_inches = coin.to(u.imperial.inch).value\n",
      "    h = fiducial.H0/(100*u.km/u.s/u.Mpc)\n",
      "    print 'With h = %.3f, 8 Mpc/h = %.3f Mpc' % (h,8.0/h)\n",
      "    comoving_size = (8.0/h)*(bbox.width/coin_diameter_inches)\n",
      "    print 'Axes comoving size = %.3f Mpc' % comoving_size\n",
      "    plt.xlim(-0.5*comoving_size,+0.5*comoving_size)\n",
      "    plt.ylim(-0.5*comoving_size,+0.5*comoving_size)\n",
      "    # Calculate the corresponding range of angular separations (in degrees) at redshift z0.\n",
      "    angular_size = math.degrees(comoving_size*u.Mpc/fiducial.angular_diameter_distance(z=z0))\n",
      "    print 'Axes angular size = %.3f degrees' % angular_size\n",
      "    # Calculate the corresponding redshift range centered at z0.\n",
      "    redshift_size = comoving_size*u.Mpc/((const.c/Planck13.H(z0)).to(u.Mpc))\n",
      "    print 'Axes redshift size = %.5f' % redshift_size\n",
      "    # Add secondary axes (which requires resetting the original axes).\n",
      "    alt_x_axis = axes.twiny()\n",
      "    alt_y_axis = axes.twinx()\n",
      "    axes.set(adjustable='box-forced',xlim=(-0.5*comoving_size,+0.5*comoving_size),\n",
      "        ylim=(-0.5*comoving_size,+0.5*comoving_size),aspect=1.)\n",
      "    alt_x_axis.set(adjustable='box-forced',xlim=(-0.5*angular_size,+0.5*angular_size),\n",
      "        ylim=(-0.5*comoving_size,+0.5*comoving_size),\n",
      "        aspect=angular_size/comoving_size)\n",
      "    alt_x_axis.set_xlabel('Angular Separation (degrees)')\n",
      "    alt_y_axis.set(adjustable='box-forced',xlim=(-0.5*comoving_size,+0.5*comoving_size),\n",
      "        ylim=(z0-0.5*redshift_size,z0+0.5*redshift_size),\n",
      "        aspect=comoving_size/redshift_size)\n",
      "    alt_y_axis.set_ylabel('Redshift')"
     ],
     "language": "python",
     "metadata": {},
     "outputs": [],
     "prompt_number": 174
    },
    {
     "cell_type": "code",
     "collapsed": false,
     "input": [
      "draw_frame()\n",
      "plt.savefig('frame.pdf')"
     ],
     "language": "python",
     "metadata": {},
     "outputs": [
      {
       "output_type": "stream",
       "stream": "stdout",
       "text": [
        "Axes physical size = 5.284 inches\n",
        "With h = 0.678, 8 Mpc/h = 11.805 Mpc\n",
        "Axes comoving size = 65.308 Mpc\n",
        "Axes angular size = 2.130 degrees\n",
        "Axes redshift size = 0.02945\n"
       ]
      },
      {
       "metadata": {},
       "output_type": "display_data",
       "png": "[encoded data removed]",
       "text": [
        "<matplotlib.figure.Figure at 0x10ad2bd90>"
       ]
      }
     ],
     "prompt_number": 175
    },
    {
     "cell_type": "markdown",
     "metadata": {},
     "source": [
      "Show angular sizes of the following on this frame:\n",
      "* full moon\n",
      "* LSST field of view\n",
      "* LSST pixel\n",
      "* LSST chip\n",
      "* DESI field of view\n",
      "* DESI fiber\n",
      "* BAO ring"
     ]
    },
    {
     "cell_type": "markdown",
     "metadata": {},
     "source": [
      "Show redshift extends at z=1.2 of the following on this frame:\n",
      "* 1% dz/(1+z) photo-z accuracy\n",
      "* 1 Angstrom redshift of green light\n",
      "* 100 km/s relative velocity\n",
      "* BAO ring"
     ]
    },
    {
     "cell_type": "code",
     "collapsed": false,
     "input": [],
     "language": "python",
     "metadata": {},
     "outputs": []
    }
   ],
   "metadata": {}
  }
 ]
}